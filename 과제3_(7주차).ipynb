{
 "cells": [
  {
   "cell_type": "code",
   "execution_count": null,
   "id": "e3a0f429",
   "metadata": {},
   "outputs": [
    {
     "name": "stdout",
     "output_type": "stream",
     "text": [
      "최저: 1 최고: 10\n"
     ]
    }
   ],
   "source": [
    "#15\n",
    "str_list = input(\"숫자 10개: \").split(',')\n",
    "num_list = list(map(int, str_list))\n",
    "min_val = min(num_list)\n",
    "max_val = max(num_list)\n",
    "\n",
    "print(\"최저:\", min_val, \"최고:\", max_val)"
   ]
  },
  {
   "cell_type": "code",
   "execution_count": null,
   "id": "a431c92c",
   "metadata": {},
   "outputs": [
    {
     "name": "stdout",
     "output_type": "stream",
     "text": [
      "44\n"
     ]
    }
   ],
   "source": [
    "#16\n",
    "num_list = list(map(int, input(\"숫자 10개: \").split(',')))\n",
    "total_sum = sum(num_list)\n",
    "min_val = min(num_list)\n",
    "max_val = max(num_list)\n",
    "result = total_sum - min_val - max_val\n",
    "\n",
    "print(result)"
   ]
  },
  {
   "cell_type": "code",
   "execution_count": null,
   "id": "eec9d415",
   "metadata": {},
   "outputs": [
    {
     "name": "stdout",
     "output_type": "stream",
     "text": [
      "[10, 30, 40, 30, 10]\n"
     ]
    }
   ],
   "source": [
    "#17\n",
    "z = [10, 20, 30, 40, 30, 20, 10]\n",
    "z = [item for item in z if item != 20]\n",
    "\n",
    "print(z)"
   ]
  },
  {
   "cell_type": "code",
   "execution_count": 14,
   "id": "5b1b56ee",
   "metadata": {},
   "outputs": [
    {
     "name": "stdout",
     "output_type": "stream",
     "text": [
      "[1, 2, 3, 4, 5]\n"
     ]
    }
   ],
   "source": [
    "#18\n",
    "num_list = [i for i in range(1, 6)]\n",
    "print(num_list)"
   ]
  },
  {
   "cell_type": "code",
   "execution_count": 15,
   "id": "c578c4b1",
   "metadata": {},
   "outputs": [
    {
     "name": "stdout",
     "output_type": "stream",
     "text": [
      "[1, 3, 5, 7, 9, 11, 13, 15, 17, 19]\n"
     ]
    }
   ],
   "source": [
    "#19\n",
    "odd_numbers = [i for i in range(1, 21) if i % 2 == 1]\n",
    "print(odd_numbers)"
   ]
  },
  {
   "cell_type": "code",
   "execution_count": 41,
   "id": "64ad1c3e",
   "metadata": {},
   "outputs": [
    {
     "name": "stdout",
     "output_type": "stream",
     "text": [
      "[2, 8, 16, 32, 64, 128, 256, 1024]\n",
      "[1024, 4096, 8192, 16384, 32768, 65536, 131072, 262144, 1048576]\n"
     ]
    }
   ],
   "source": [
    "#20\n",
    "start, end = map(int, input().split(','))\n",
    "power_list = [2 ** i for i in range(start, end + 1)]\n",
    "del power_list[-2]\n",
    "del power_list[1]\n",
    "print(power_list)\n",
    "\n",
    "start, end = map(int, input().split(','))\n",
    "power_list = [2 ** i for i in range(start, end + 1)]\n",
    "del power_list[-2]\n",
    "del power_list[1]\n",
    "print(power_list)"
   ]
  },
  {
   "cell_type": "code",
   "execution_count": 36,
   "id": "53fd371e",
   "metadata": {},
   "outputs": [
    {
     "name": "stdout",
     "output_type": "stream",
     "text": [
      "Hi, world!\n"
     ]
    }
   ],
   "source": [
    "#21\n",
    "input_string = input(\" 'Hello, world!' 입력: \")\n",
    "output_string = input_string.replace('Hello', 'Hi')\n",
    "\n",
    "print(output_string)"
   ]
  },
  {
   "cell_type": "code",
   "execution_count": 42,
   "id": "3f53c64d",
   "metadata": {},
   "outputs": [
    {
     "name": "stdout",
     "output_type": "stream",
     "text": [
      "a/b/c/d\n"
     ]
    }
   ],
   "source": [
    "#22\n",
    "char_list = input(\"문자 4개: \").split(',')\n",
    "result_string = '/'.join(char_list)\n",
    "\n",
    "print(result_string)"
   ]
  },
  {
   "cell_type": "code",
   "execution_count": null,
   "id": "c9e852e4",
   "metadata": {},
   "outputs": [
    {
     "name": "stdout",
     "output_type": "stream",
     "text": [
      "       ahn\n"
     ]
    }
   ],
   "source": [
    "#23\n",
    "last_name = input(\"본인 성을 영어로 입력: \")\n",
    "formatted_name = last_name.lower().rjust(10)\n",
    "\n",
    "print(formatted_name)"
   ]
  },
  {
   "cell_type": "code",
   "execution_count": null,
   "id": "09584c12",
   "metadata": {},
   "outputs": [
    {
     "name": "stdout",
     "output_type": "stream",
     "text": [
      "  1304000\n",
      "   367500\n",
      "   250000\n",
      "   158000\n",
      "   128500\n",
      "    83000\n",
      "    59200\n",
      "    51900\n"
     ]
    }
   ],
   "source": [
    "#24\n",
    "price_input = input(\"물품 가격을 ;으로 구분하고 입력: \")\n",
    "price_str_list = price_input.split(';')\n",
    "price_int_list = list(map(int, price_str_list))\n",
    "price_int_list.sort(reverse=True)\n",
    "for price in price_int_list:\n",
    "    print(str(price).rjust(9))"
   ]
  }
 ],
 "metadata": {
  "kernelspec": {
   "display_name": "Python 3",
   "language": "python",
   "name": "python3"
  },
  "language_info": {
   "codemirror_mode": {
    "name": "ipython",
    "version": 3
   },
   "file_extension": ".py",
   "mimetype": "text/x-python",
   "name": "python",
   "nbconvert_exporter": "python",
   "pygments_lexer": "ipython3",
   "version": "3.13.5"
  }
 },
 "nbformat": 4,
 "nbformat_minor": 5
}
